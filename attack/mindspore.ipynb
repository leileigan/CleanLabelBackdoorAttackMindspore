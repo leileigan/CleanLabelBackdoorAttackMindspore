{
 "cells": [
  {
   "cell_type": "code",
   "execution_count": 70,
   "metadata": {},
   "outputs": [],
   "source": [
    "import mindspore as ms\n",
    "from mindformers import BertForTokenClassification, BertTokenizer\n",
    "import os, sys\n",
    "import pandas as pd\n",
    "from mindspore.dataset import SequentialSampler, GeneratorDataset, text\n",
    "sys.path.append(\"/home/ganleilei/workspace/CleanLabelTextualBackdoorAttackMindspore\")\n",
    "os.environ['CUDA_VISIBLE_DEVICES'] = '0'\n",
    "ms.context.set_context(device_target=\"GPU\")"
   ]
  },
  {
   "cell_type": "code",
   "execution_count": null,
   "metadata": {},
   "outputs": [],
   "source": [
    "model = BertForTokenClassification.from_pretrained('tokcls_bert_base_chinese')\n",
    "tokenizer = BertTokenizer.from_pretrained('tokcls_bert_base_chinese')"
   ]
  },
  {
   "cell_type": "code",
   "execution_count": 45,
   "metadata": {},
   "outputs": [],
   "source": [
    "class Iterable:\n",
    "    def __init__(self, data):\n",
    "        self.texts = []\n",
    "        self.labels = []\n",
    "        self.input_ids = []\n",
    "        self.token_type_ids = []\n",
    "        self.attention_mask = []\n",
    "        self.tokenizer = BertTokenizer.from_pretrained('bert_base_uncased')\n",
    "\n",
    "        for text, label in data:\n",
    "            self.texts.append(text)\n",
    "            self.labels.append(label)\n",
    "\n",
    "        tokenize_out = self.tokenizer(self.texts, max_length=30, padding='max_length', return_tensors='ms', truncation=True)\n",
    "        self.input_ids = tokenize_out['input_ids'].numpy()\n",
    "        self.token_type_ids = tokenize_out['token_type_ids'].numpy()\n",
    "        self.attention_mask = tokenize_out['attention_mask'].numpy()\n",
    "\n",
    "    def __len__(self):\n",
    "        return len(self.texts)\n",
    "\n",
    "    def __getitem__(self, idx):\n",
    "        return (self.input_ids[idx], self.token_type_ids[idx], self.attention_mask[idx], self.labels[idx])"
   ]
  },
  {
   "cell_type": "code",
   "execution_count": null,
   "metadata": {},
   "outputs": [],
   "source": [
    "def read_data(file_path):\n",
    "    data = pd.read_csv(file_path, sep='\\t').values.tolist()\n",
    "    sentences = [item[0] for item in data]\n",
    "    labels = [int(item[1]) for item in data]\n",
    "    processed_data = [(sentences[i], labels[i]) for i in range(len(labels))]\n",
    "    return processed_data\n",
    "\n",
    "\n",
    "def get_all_data(base_path):\n",
    "    train_path = os.path.join(base_path, 'train.tsv')\n",
    "    dev_path = os.path.join(base_path, 'dev.tsv')\n",
    "    test_path = os.path.join(base_path, 'test.tsv')\n",
    "    train_data = read_data(train_path)\n",
    "    dev_data = read_data(dev_path)\n",
    "    test_data = read_data(test_path)\n",
    "    return train_data, dev_data, test_data\n",
    "\n",
    "clean_train_data, clean_dev_data, clean_test_data = get_all_data(\"../data/clean_data/sst-2\")\n",
    "clean_train_dataset, clean_dev_dataset, clean_test_dataset = Iterable(\n",
    "        clean_train_data), Iterable(clean_dev_data), Iterable(clean_test_data)\n"
   ]
  },
  {
   "cell_type": "code",
   "execution_count": 47,
   "metadata": {},
   "outputs": [],
   "source": [
    "batch_size = 2\n",
    "\n",
    "clean_train_dataset = GeneratorDataset(clean_train_dataset, column_names=['input_ids', 'token_type_ids', 'attention_mask', 'label'], shuffle=True)\n",
    "clean_dev_dataset   = GeneratorDataset(clean_dev_dataset, column_names=['input_ids', 'token_type_ids', 'attention_mask', 'label'], shuffle=True)\n",
    "clean_test_dataset  = GeneratorDataset(clean_test_dataset, column_names=['input_ids', 'token_type_ids', 'attention_mask', 'label'], shuffle=False)\n",
    "\n",
    "train_loader_clean = clean_train_dataset.batch(batch_size)\n",
    "dev_loader_clean = clean_dev_dataset.batch(batch_size)\n",
    "test_loader_clean = clean_test_dataset.batch(batch_size)"
   ]
  },
  {
   "cell_type": "code",
   "execution_count": null,
   "metadata": {},
   "outputs": [],
   "source": [
    "from models.model_ms import BERT\n",
    "model = BERT(\"bert_base_uncased\", 2, 2, hidden_dim=756)"
   ]
  },
  {
   "cell_type": "code",
   "execution_count": null,
   "metadata": {},
   "outputs": [],
   "source": [
    "data = tokenizer([\"我在杭州华为工作。\", \"你们好！\"], return_tensors='ms', max_length=128, padding='max_length')\n",
    "\n",
    "input_ids, attention_mask, token_type_ids, label = list(train_loader_clean.create_tuple_iterator())[0]\n",
    "print(type(input_ids))\n",
    "print(type(attention_mask))\n",
    "print(type(token_type_ids))\n",
    "\n",
    "print(input_ids.shape)\n",
    "print(attention_mask.shape)\n",
    "print(token_type_ids.shape)\n",
    "\n",
    "output = model.construct(input_ids, attention_mask, token_type_ids)\n",
    "print(output[0].shape)\n",
    "print(output[1].shape)\n",
    "\n",
    "input_ids, attention_mask, token_type_ids = data['input_ids'], data['attention_mask'], data['token_type_ids']\n",
    "print(type(input_ids))\n",
    "print(type(attention_mask))\n",
    "print(type(token_type_ids))\n",
    "\n",
    "print(input_ids.shape)\n",
    "print(attention_mask.shape)\n",
    "print(token_type_ids.shape)\n",
    "\n",
    "output = model.construct(input_ids, attention_mask, token_type_ids)\n",
    "print(output[0].shape)\n",
    "print(output[1].shape)"
   ]
  }
 ],
 "metadata": {
  "kernelspec": {
   "display_name": "mindspore",
   "language": "python",
   "name": "python3"
  },
  "language_info": {
   "codemirror_mode": {
    "name": "ipython",
    "version": 3
   },
   "file_extension": ".py",
   "mimetype": "text/x-python",
   "name": "python",
   "nbconvert_exporter": "python",
   "pygments_lexer": "ipython3",
   "version": "3.8.16"
  },
  "orig_nbformat": 4
 },
 "nbformat": 4,
 "nbformat_minor": 2
}
